{
  "cells": [
    {
      "cell_type": "markdown",
      "metadata": {
        "id": "06HAdShDGHf2"
      },
      "source": [
        "# Part 2 - TASK 5D"
      ],
      "id": "06HAdShDGHf2"
    },
    {
      "cell_type": "markdown",
      "metadata": {
        "id": "6HJnsIHNGHf3"
      },
      "source": [
        "# Object Tracking Using Custom Vision"
      ],
      "id": "6HJnsIHNGHf3"
    },
    {
      "cell_type": "code",
      "execution_count": null,
      "metadata": {
        "id": "Xgeo6KkaGHf3"
      },
      "outputs": [],
      "source": [
        "#!pip install azure-cognitiveservices-vision-customvision\n",
        "#!pip install azure-cognitiveservices-vision-customvision opencv-python pillow matplotlib\n",
        "#!pip install azure-cognitiveservices-vision-customvision\n",
        "#!pip install opencv-python\n",
        "#!pip install pillow\n"
      ],
      "id": "Xgeo6KkaGHf3"
    },
    {
      "cell_type": "markdown",
      "metadata": {
        "id": "EB0JXng2GHf4"
      },
      "source": [
        "## Import Libraries"
      ],
      "id": "EB0JXng2GHf4"
    },
    {
      "cell_type": "code",
      "execution_count": null,
      "metadata": {
        "id": "l5zkOGvOGHf4"
      },
      "outputs": [],
      "source": [
        "import cv2                                                                                      # OpenCV Library for image and video processing used for frame extraction and video creation\n",
        "import os                                                                                       # provide functions to interact with operating system like creating folders, etc\n",
        "from azure.cognitiveservices.vision.customvision.prediction import CustomVisionPredictionClient # Connects to Azure's custom vision service to make predictions on images\n",
        "from msrest.authentication import ApiKeyCredentials                                             # Authenticates requests to Azure using prediction key\n",
        "from PIL import Image, ImageDraw, ImageFont                                                     # From pillow used to open images, draw bounding boxes and labels\n",
        "import matplotlib.pyplot as plt                                                                 # Used for plotting images and visualising trajectories or annotated results\n",
        "from collections import defaultdict                                                             # from Collections library, automatises the initialisation of lists to store coordinate points for each object tag"
      ],
      "id": "l5zkOGvOGHf4"
    },
    {
      "cell_type": "markdown",
      "metadata": {
        "id": "heGbQUogGHf4"
      },
      "source": [
        "## Step 1: Extract frames from input video"
      ],
      "id": "heGbQUogGHf4"
    },
    {
      "cell_type": "code",
      "execution_count": null,
      "metadata": {
        "id": "Iy3YL_RYGHf4",
        "outputId": "6bd92f88-da15-4c80-ae09-0ff49e9b5e00"
      },
      "outputs": [
        {
          "name": "stdout",
          "output_type": "stream",
          "text": [
            "Extracted 90 frames into the directory 'extracted_frames/'\n"
          ]
        }
      ],
      "source": [
        "video_path = \"objecttracking.mp4\"\n",
        "extracted_frame_dir = \"extracted_frames\"\n",
        "os.makedirs(extracted_frame_dir, exist_ok=True)\n",
        "\n",
        "# start of capturing frames using cv2\n",
        "cap = cv2.VideoCapture(video_path)\n",
        "frame_interval = 2                                                         # Extract every 2nd frame\n",
        "frame_id = 0                                                               # Is actually frame number which is extracted\n",
        "saved = 0\n",
        "\n",
        "while cap.isOpened():                                                      # Checks if the video is really opened by cv2.VideoCapture(). If True loop proceeds\n",
        "    ret, frame = cap.read()                                                # Reads a frame from video\n",
        "    if not ret:                                                            # ret is return value, If not True: or if \"false\" then it breaks meaning no image captured\n",
        "        break\n",
        "    if frame_id % frame_interval == 0:                                     # This will run if above If not ret: does not run and that happens when image is read.\n",
        "        filename = os.path.join(extracted_frame_dir, f\"frame_{saved}.jpg\") # Creates a file path using os.path.join() which is cross compatible function\n",
        "        cv2.imwrite(filename, frame)                                       # This writes the frame captured into the file path derived from above line\n",
        "        saved += 1                                                         # it is counter for how many frames are saved so far. So in first loop it is 1\n",
        "    frame_id += 1                                                          # This is acting like a counter that is used to compare with frame_interval set and take a decision to capture the image further or not.\n",
        "\n",
        "cap.release()                                                              # This actually closes the file opened above in cap.VideoCapture() line\n",
        "print(f\"Extracted {saved} frames into the directory '{extracted_frame_dir}/'\")\n"
      ],
      "id": "Iy3YL_RYGHf4"
    },
    {
      "cell_type": "markdown",
      "metadata": {
        "id": "erd8rk1AGHf5"
      },
      "source": [
        "## Step 2: Connect to Azure Custom Vision"
      ],
      "id": "erd8rk1AGHf5"
    },
    {
      "cell_type": "code",
      "execution_count": null,
      "metadata": {
        "id": "J5HBWRX_GHf5"
      },
      "outputs": [],
      "source": [
        "PREDICTION_KEY = \"your-key-here\"\n",
        "PREDICTION_ENDPOINT = \"your-endpoint-here\"\n",
        "PROJECT_ID = \"your-projectid-here\"\n",
        "PUBLISHED_NAME = \"kbcvobjtrack3\"\n",
        "\n",
        "credentials = ApiKeyCredentials(in_headers={\"Prediction-Key\": PREDICTION_KEY})\n",
        "predictor = CustomVisionPredictionClient(PREDICTION_ENDPOINT, credentials)"
      ],
      "id": "J5HBWRX_GHf5"
    },
    {
      "cell_type": "markdown",
      "metadata": {
        "id": "bSe_iJ5qGHf5"
      },
      "source": [
        "## Step3: Predict and annotate bounding boxes"
      ],
      "id": "bSe_iJ5qGHf5"
    },
    {
      "cell_type": "code",
      "execution_count": null,
      "metadata": {
        "id": "uiJDW9ILGHf5"
      },
      "outputs": [],
      "source": [
        "font = ImageFont.load_default()                                                    # It loads a basic, built-in font from the PIL (Python Imaging Library) module so that text can be drawn on images using ImageDraw\n",
        "trajectories = defaultdict(list)                                                   # Creates a dictionary where each key (object tag like \"Person\" say) starts with an empty list\n",
        "\n",
        "for img_name in sorted(os.listdir(extracted_frame_dir)):                           # Loops through each image from the extracted_frame_dir after sorting those images\n",
        "    img_path = os.path.join(extracted_frame_dir, img_name)                         # img_path gets the file path\n",
        "    with open(img_path, \"rb\") as image_data:                                       # this file is opened in read binary format and aliased as image_data\n",
        "        results = predictor.detect_image(PROJECT_ID, PUBLISHED_NAME, image_data)   # Sends the image to Azure Custom Vision and gets predicted bounding boxes for objects in the frame\n",
        "\n",
        "# Example of what is contained in results object\n",
        "#{\n",
        "#  \"tag_name\": \"Car\",\n",
        "#  \"probability\": 0.85,\n",
        "#  \"bounding_box\": {\n",
        "#    \"left\": 0.23,\n",
        "#    \"top\": 0.40,\n",
        "#    \"width\": 0.15,\n",
        "#    \"height\": 0.10\n",
        "#  }\n",
        "#}\n",
        "\n",
        "\n",
        "    image = Image.open(img_path).convert(\"RGB\")                                    # One Image is opened and is converted into full colour so that further ImageDraw can work on it or becomes compatible to draw on it.\n",
        "    draw = ImageDraw.Draw(image)                                                   # This line readies to draw on the image\n",
        "    width, height = image.size                                                     # For the image that is opened - its width and height is recorded\n",
        "\n",
        "    for prediction in results.predictions:                                         # Loop through predictions and convert normalized bounding box coordinates received from Azure custom vision to actual pixel values\n",
        "        if prediction.probability * 100 >= 50:                                     # Only images with confidence score or probability greater than or equal to 50 are considered\n",
        "\n",
        "# Below line of codes denormalises the values received from azure custom vision api by multiplying with actual width and height of the image\n",
        "            left = prediction.bounding_box.left * width\n",
        "            top = prediction.bounding_box.top * height\n",
        "            w = prediction.bounding_box.width * width\n",
        "            h = prediction.bounding_box.height * height\n",
        "            center_x = left + w / 2                                                # This 2 line of code stores the center point across width and height axis\n",
        "            center_y = top + h / 2\n",
        "\n",
        "            tag = prediction.tag_name\n",
        "            trajectories[tag].append((center_x, center_y))                         # Stores the center points calculated above in the trajectories list wherein key value is tag\n",
        "\n",
        "            draw.rectangle([left, top, left + w, top + h], outline=\"red\", width=3)  # Draws a rectangle with red colour on the image that fits on the object detected with name as in the object tag\n",
        "            draw.text((left, top - 10), f\"{tag} ({prediction.probability * 100:.1f}%)\", fill=\"red\", font=font)  # writes or draws the object name and confidence level above the bounding box\n",
        "\n",
        "    image.save(img_path)                                                           # replaces the annotated image/frame with bounding boxes and object name, confidence level and replaces the unannotated image that was written by cv2.Imwrite()"
      ],
      "id": "uiJDW9ILGHf5"
    },
    {
      "cell_type": "markdown",
      "metadata": {
        "id": "tovRI3faGHf5"
      },
      "source": [
        "## Step4: Recreate Video From Annotated Frames"
      ],
      "id": "tovRI3faGHf5"
    },
    {
      "cell_type": "code",
      "execution_count": null,
      "metadata": {
        "id": "L8x0uobAGHf5",
        "outputId": "230f9b19-d50d-492f-bfb4-a950290e160d"
      },
      "outputs": [
        {
          "name": "stdout",
          "output_type": "stream",
          "text": [
            "\n",
            " Object tracking video saved as: tracked_output.mp4\n"
          ]
        }
      ],
      "source": [
        "frame_files = sorted([f for f in os.listdir(extracted_frame_dir) if f.endswith(\".jpg\")])     # Gets a sorted list of all .jpg frame file names in the extracted_frame_dir folder.\n",
        "first_frame = cv2.imread(os.path.join(extracted_frame_dir, frame_files[0]))                  # Reads the first image (to get frame size) using OpenCV\n",
        "h, w, _ = first_frame.shape                                                                  # Extracts height (h) and width (w) of the first image to use for video size\n",
        "video_out_path = \"tracked_output.mp4\"                                                        # Sets the output filename for the final annotated video.\n",
        "video = cv2.VideoWriter(video_out_path, cv2.VideoWriter_fourcc(*\"mp4v\"), 5, (w, h))          # Initializes the video writer with output path, codec \"mp4v\", frame rate 5 FPS, and frame size (w, h).\n",
        "\n",
        "for frame_file in frame_files:                                                               # Iterates over each annotated frame in frame_files object\n",
        "    frame = cv2.imread(os.path.join(extracted_frame_dir, frame_file))                        # Reads the frame image from disk using OpenCV.\n",
        "    video.write(frame)                                                                       # Writes the frame into video file in sequence\n",
        "video.release()                                                                              # Closes and finalises the video file\n",
        "\n",
        "print(\"\\n Object tracking video saved as:\", video_out_path)                                  # Prints a confirmation message with video file name"
      ],
      "id": "L8x0uobAGHf5"
    },
    {
      "cell_type": "markdown",
      "metadata": {
        "id": "saFbSQn-GHf6"
      },
      "source": [
        "## Step 5: Plot Object Trajectories"
      ],
      "id": "saFbSQn-GHf6"
    },
    {
      "cell_type": "code",
      "execution_count": null,
      "metadata": {
        "id": "Xd8YfPuZGHf6",
        "outputId": "70516302-befe-44b7-9f27-70571ca728aa"
      },
      "outputs": [
        {
          "data": {
            "image/png": "[encoded data removed]",
            "text/plain": [
              "<Figure size 720x576 with 1 Axes>"
            ]
          },
          "metadata": {
            "needs_background": "light"
          },
          "output_type": "display_data"
        }
      ],
      "source": [
        "plt.figure(figsize=(10, 8))\n",
        "for tag, points in trajectories.items():              # Loops through each object tag (like \"Person\", \"Car\", etc.) and its list of (x, y) trajectory points that were collected from all frames\n",
        "    xs, ys = zip(*points)                             # Splits the list of coordinate pairs into separate xs and ys lists — so you can plot x-positions against y-positions\n",
        "    plt.plot(xs, ys, marker='o', label=tag)           # Plots the trajectory line with markers (o) for that object, and adds a label for the legend.\n",
        "\n",
        "plt.gca().invert_yaxis()                              # Inverts the y-axis so that the top of the image becomes y=0, matching the image coordinate system (OpenCV and PIL use top-left as origin)\n",
        "plt.title(\"Object Movement Trajectories\")\n",
        "plt.xlabel(\"X\", fontsize = 15)\n",
        "plt.ylabel(\"Y\", fontsize = 15)\n",
        "plt.legend()\n",
        "plt.grid(True)\n",
        "plt.tight_layout()\n",
        "plt.show()"
      ],
      "id": "Xd8YfPuZGHf6"
    },
    {
      "cell_type": "markdown",
      "metadata": {
        "id": "pA7I3S8ZGHf6"
      },
      "source": [
        "## Step 6: Save Trajectory Data Into CSV File"
      ],
      "id": "pA7I3S8ZGHf6"
    },
    {
      "cell_type": "code",
      "execution_count": null,
      "metadata": {
        "id": "z-HNcPVyGHf6",
        "outputId": "f1c89bc3-6287-4df7-ba5b-46bd04d9b0b9"
      },
      "outputs": [
        {
          "name": "stdout",
          "output_type": "stream",
          "text": [
            "Trajectory data saved to 'object_trajectories.csv'\n"
          ]
        }
      ],
      "source": [
        "import csv\n",
        "\n",
        "with open(\"object_trajectories.csv\", mode=\"w\", newline=\"\") as file:\n",
        "    writer = csv.writer(file)\n",
        "    writer.writerow([\"Object\", \"Frame\", \"X\", \"Y\"])\n",
        "\n",
        "    for tag, points in trajectories.items():\n",
        "        for frame_idx, (x, y) in enumerate(points):\n",
        "            writer.writerow([tag, frame_idx, round(x, 2), round(y, 2)])\n",
        "\n",
        "print(\"Trajectory data saved to 'object_trajectories.csv'\")\n"
      ],
      "id": "z-HNcPVyGHf6"
    },
    {
      "cell_type": "code",
      "execution_count": null,
      "metadata": {
        "id": "jKQJHoMcGHf6"
      },
      "outputs": [],
      "source": [],
      "id": "jKQJHoMcGHf6"
    }
  ],
  "metadata": {
    "kernelspec": {
      "display_name": "Python 3",
      "language": "python",
      "name": "python3"
    },
    "language_info": {
      "codemirror_mode": {
        "name": "ipython",
        "version": 3
      },
      "file_extension": ".py",
      "mimetype": "text/x-python",
      "name": "python",
      "nbconvert_exporter": "python",
      "pygments_lexer": "ipython3",
      "version": "3.7.6"
    },
    "colab": {
      "provenance": []
    }
  },
  "nbformat": 4,
  "nbformat_minor": 5
}